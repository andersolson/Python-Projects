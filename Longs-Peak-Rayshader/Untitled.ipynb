{
 "cells": [
  {
   "cell_type": "markdown",
   "id": "7d624cff",
   "metadata": {},
   "source": [
    "# Using rayshader (R package) in Python\n",
    "\n",
    "Source: [Using rayshader in Python](https://www.gpxz.io/blog/rayshading-in-python)\n",
    "\n",
    "rayshader is an amazing R package for producing realistic 3D maps from elevation data. The maps produced by rayshader are much easier to interpret than 2D hillshaded or heatmap images, plus they’re just really cool to look at.\n",
    "\n"
   ]
  }
 ],
 "metadata": {
  "kernelspec": {
   "display_name": "Python 3 (ipykernel)",
   "language": "python",
   "name": "python3"
  },
  "language_info": {
   "codemirror_mode": {
    "name": "ipython",
    "version": 3
   },
   "file_extension": ".py",
   "mimetype": "text/x-python",
   "name": "python",
   "nbconvert_exporter": "python",
   "pygments_lexer": "ipython3",
   "version": "3.9.16"
  }
 },
 "nbformat": 4,
 "nbformat_minor": 5
}
