{
 "cells": [
  {
   "cell_type": "code",
   "execution_count": 1,
   "id": "9caa6889",
   "metadata": {},
   "outputs": [
    {
     "name": "stderr",
     "output_type": "stream",
     "text": [
      "Reauthentication required.\n"
     ]
    },
    {
     "name": "stdout",
     "output_type": "stream",
     "text": [
      "Please visit this URL to authorize this application: https://accounts.google.com/o/oauth2/auth?response_type=code&client_id=262006177488-3425ks60hkk80fssi9vpohv88g6q1iqd.apps.googleusercontent.com&redirect_uri=http%3A%2F%2Flocalhost%3A8081%2F&scope=https%3A%2F%2Fwww.googleapis.com%2Fauth%2Fcloud-platform+https%3A%2F%2Fwww.googleapis.com%2Fauth%2Fdrive&state=UWDSWaIOSLc5jNYH4dW8LPPVGrfMau&access_type=offline\n"
     ]
    }
   ],
   "source": [
    "from google.cloud import bigquery\n",
    "import pandas as pd\n",
    "import geopandas as gpd\n",
    "import pydata_google_auth\n",
    "SCOPES = [\n",
    "    'https://www.googleapis.com/auth/cloud-platform',\n",
    "    'https://www.googleapis.com/auth/drive',\n",
    "]\n",
    "\n",
    "credentials = pydata_google_auth.get_user_credentials(\n",
    "    SCOPES,\n",
    "    # Set auth_local_webserver to True to have a slightly more convienient\n",
    "    # authorization flow. Note, this doesn't work if you're running from a\n",
    "    # notebook on a remote sever, such as over SSH or with Google Colab.\n",
    "    # but you can do this if you forward port 8080 over to the machine\n",
    "    auth_local_webserver=True,\n",
    ")\n",
    "napa_fips = '06055'\n",
    "sonoma_fips = '06097'\n",
    "\n",
    "client = bigquery.Client(credentials=credentials)\n",
    "sql_query = \"\"\"\n",
    "SELECT x.Structure_StdAddressLine, x.Structure_StdCity, x.STructure_StdState, x.Structure_StdPostcode, y.* FROM \n",
    "`clgx-algorithm-proc-dev-eddd.spatial_FFH_RISKMETER_TESTING.tmp_chuck_strct_unique_ffh_geom` y INNER JOIN\n",
    "`clgx-algorithm-proc-dev-eddd.spatial_FFH_sbx.FFH_DH_Model_Analysis` x\n",
    "ON y.STRCT_ID = x.STRUCT_ID\n",
    "WHERE fips in ('06055','06097')\n",
    "\"\"\"\n",
    "\n",
    "df = client.query(sql_query).to_dataframe()"
   ]
  },
  {
   "cell_type": "code",
   "execution_count": 2,
   "id": "13cbf227",
   "metadata": {},
   "outputs": [
    {
     "data": {
      "text/html": [
       "<div>\n",
       "<style scoped>\n",
       "    .dataframe tbody tr th:only-of-type {\n",
       "        vertical-align: middle;\n",
       "    }\n",
       "\n",
       "    .dataframe tbody tr th {\n",
       "        vertical-align: top;\n",
       "    }\n",
       "\n",
       "    .dataframe thead th {\n",
       "        text-align: right;\n",
       "    }\n",
       "</style>\n",
       "<table border=\"1\" class=\"dataframe\">\n",
       "  <thead>\n",
       "    <tr style=\"text-align: right;\">\n",
       "      <th></th>\n",
       "      <th>Structure_StdAddressLine</th>\n",
       "      <th>Structure_StdCity</th>\n",
       "      <th>STructure_StdState</th>\n",
       "      <th>Structure_StdPostcode</th>\n",
       "      <th>STRCT_ID</th>\n",
       "      <th>FIPS</th>\n",
       "      <th>LAG_FT</th>\n",
       "      <th>HAG_FT</th>\n",
       "      <th>FFH_FT</th>\n",
       "      <th>geom</th>\n",
       "    </tr>\n",
       "  </thead>\n",
       "  <tbody>\n",
       "    <tr>\n",
       "      <th>0</th>\n",
       "      <td>153 GAMAY CIR</td>\n",
       "      <td>YOUNTVILLE</td>\n",
       "      <td>CA</td>\n",
       "      <td>94599</td>\n",
       "      <td>321303598</td>\n",
       "      <td>06055</td>\n",
       "      <td>84.4</td>\n",
       "      <td>85.3</td>\n",
       "      <td>2.9</td>\n",
       "      <td>POLYGON((-122.35535829637 38.3985306554996, -1...</td>\n",
       "    </tr>\n",
       "    <tr>\n",
       "      <th>1</th>\n",
       "      <td>1870 HERITAGE WAY</td>\n",
       "      <td>YOUNTVILLE</td>\n",
       "      <td>CA</td>\n",
       "      <td>94599</td>\n",
       "      <td>321304328</td>\n",
       "      <td>06055</td>\n",
       "      <td>89.3</td>\n",
       "      <td>90.5</td>\n",
       "      <td>-0.2</td>\n",
       "      <td>POLYGON((-122.356370367444 38.4046905044651, -...</td>\n",
       "    </tr>\n",
       "    <tr>\n",
       "      <th>2</th>\n",
       "      <td>20088 EL RANCHO WAY</td>\n",
       "      <td>MONTE RIO</td>\n",
       "      <td>CA</td>\n",
       "      <td>95462</td>\n",
       "      <td>327944705</td>\n",
       "      <td>06097</td>\n",
       "      <td>45.5</td>\n",
       "      <td>46.9</td>\n",
       "      <td>1.1</td>\n",
       "      <td>POLYGON((-123.01363046383 38.4707243507015, -1...</td>\n",
       "    </tr>\n",
       "    <tr>\n",
       "      <th>3</th>\n",
       "      <td>1927 OAK CIR</td>\n",
       "      <td>YOUNTVILLE</td>\n",
       "      <td>CA</td>\n",
       "      <td>94599</td>\n",
       "      <td>321302941</td>\n",
       "      <td>06055</td>\n",
       "      <td>88.8</td>\n",
       "      <td>90.8</td>\n",
       "      <td>1.0</td>\n",
       "      <td>POLYGON((-122.356718201554 38.4017974666649, -...</td>\n",
       "    </tr>\n",
       "    <tr>\n",
       "      <th>4</th>\n",
       "      <td>105 CLARET CIR</td>\n",
       "      <td>YOUNTVILLE</td>\n",
       "      <td>CA</td>\n",
       "      <td>94599</td>\n",
       "      <td>321316213</td>\n",
       "      <td>06055</td>\n",
       "      <td>85.6</td>\n",
       "      <td>86.4</td>\n",
       "      <td>1.5</td>\n",
       "      <td>POLYGON((-122.355201333893 38.3975167769124, -...</td>\n",
       "    </tr>\n",
       "  </tbody>\n",
       "</table>\n",
       "</div>"
      ],
      "text/plain": [
       "  Structure_StdAddressLine Structure_StdCity STructure_StdState  \\\n",
       "0            153 GAMAY CIR        YOUNTVILLE                 CA   \n",
       "1        1870 HERITAGE WAY        YOUNTVILLE                 CA   \n",
       "2      20088 EL RANCHO WAY         MONTE RIO                 CA   \n",
       "3             1927 OAK CIR        YOUNTVILLE                 CA   \n",
       "4           105 CLARET CIR        YOUNTVILLE                 CA   \n",
       "\n",
       "  Structure_StdPostcode   STRCT_ID   FIPS  LAG_FT  HAG_FT  FFH_FT  \\\n",
       "0                 94599  321303598  06055    84.4    85.3     2.9   \n",
       "1                 94599  321304328  06055    89.3    90.5    -0.2   \n",
       "2                 95462  327944705  06097    45.5    46.9     1.1   \n",
       "3                 94599  321302941  06055    88.8    90.8     1.0   \n",
       "4                 94599  321316213  06055    85.6    86.4     1.5   \n",
       "\n",
       "                                                geom  \n",
       "0  POLYGON((-122.35535829637 38.3985306554996, -1...  \n",
       "1  POLYGON((-122.356370367444 38.4046905044651, -...  \n",
       "2  POLYGON((-123.01363046383 38.4707243507015, -1...  \n",
       "3  POLYGON((-122.356718201554 38.4017974666649, -...  \n",
       "4  POLYGON((-122.355201333893 38.3975167769124, -...  "
      ]
     },
     "execution_count": 2,
     "metadata": {},
     "output_type": "execute_result"
    }
   ],
   "source": [
    "df.head()"
   ]
  },
  {
   "cell_type": "code",
   "execution_count": 3,
   "id": "d5446fcf",
   "metadata": {},
   "outputs": [],
   "source": [
    "from shapely import wkt"
   ]
  },
  {
   "cell_type": "code",
   "execution_count": 4,
   "id": "2e473228",
   "metadata": {},
   "outputs": [
    {
     "name": "stderr",
     "output_type": "stream",
     "text": [
      "/tmp/ipykernel_14215/3617946795.py:4: UserWarning: Geometry is in a geographic CRS. Results from 'centroid' are likely incorrect. Use 'GeoSeries.to_crs()' to re-project geometries to a projected CRS before this operation.\n",
      "\n",
      "  gdf['centroid'] = gdf.geometry.centroid\n"
     ]
    }
   ],
   "source": [
    "df['geometry'] = df['geom'].apply(wkt.loads)\n",
    "\n",
    "gdf = gpd.GeoDataFrame(df, crs=\"EPSG:4326\",geometry='geometry')\n",
    "gdf['centroid'] = gdf.geometry.centroid"
   ]
  },
  {
   "cell_type": "code",
   "execution_count": 5,
   "id": "f87e5079",
   "metadata": {},
   "outputs": [],
   "source": [
    "from shapely.geometry import Point\n",
    "import geopy.distance\n",
    "glass_fire_lat_lon = [38.56295, -122.49745]\n",
    "gdf['distance'] = gdf['centroid'].apply(lambda x:geopy.distance.geodesic((x.coords[0][1],x.coords[0][0]),tuple(glass_fire_lat_lon)))"
   ]
  },
  {
   "cell_type": "code",
   "execution_count": 6,
   "id": "f013a4ab",
   "metadata": {},
   "outputs": [
    {
     "data": {
      "text/plain": [
       "count    324440.000000\n",
       "mean         30.696006\n",
       "std          10.543085\n",
       "min           0.142701\n",
       "25%          25.098293\n",
       "50%          30.877213\n",
       "75%          35.776877\n",
       "max          92.094640\n",
       "Name: distance, dtype: float64"
      ]
     },
     "execution_count": 6,
     "metadata": {},
     "output_type": "execute_result"
    }
   ],
   "source": [
    "gdf['distance'].apply(lambda x: x.km).describe()"
   ]
  },
  {
   "cell_type": "code",
   "execution_count": 7,
   "id": "705c13b7",
   "metadata": {},
   "outputs": [],
   "source": [
    "gdf['within_10'] = gdf['distance'].apply(lambda x: x.km)<=10"
   ]
  },
  {
   "cell_type": "code",
   "execution_count": 8,
   "id": "9e6c3430",
   "metadata": {},
   "outputs": [
    {
     "data": {
      "text/plain": [
       "12902"
      ]
     },
     "execution_count": 8,
     "metadata": {},
     "output_type": "execute_result"
    }
   ],
   "source": [
    "gdf['within_10'].sum()"
   ]
  },
  {
   "cell_type": "code",
   "execution_count": 9,
   "id": "ea1c7913",
   "metadata": {},
   "outputs": [
    {
     "name": "stdout",
     "output_type": "stream",
     "text": [
      "Requirement already satisfied: geopy in /opt/conda/envs/tree-overhang/lib/python3.9/site-packages (2.2.0)\n",
      "Requirement already satisfied: geographiclib<2,>=1.49 in /opt/conda/envs/tree-overhang/lib/python3.9/site-packages (from geopy) (1.52)\n"
     ]
    }
   ],
   "source": [
    "# !pip install geopy"
   ]
  },
  {
   "cell_type": "code",
   "execution_count": 11,
   "id": "6669d55e",
   "metadata": {},
   "outputs": [
    {
     "data": {
      "text/plain": [
       "Index(['Structure_StdAddressLine', 'Structure_StdCity', 'STructure_StdState',\n",
       "       'Structure_StdPostcode', 'STRCT_ID', 'FIPS', 'LAG_FT', 'HAG_FT',\n",
       "       'FFH_FT', 'geom', 'geometry', 'centroid', 'distance', 'within_10'],\n",
       "      dtype='object')"
      ]
     },
     "execution_count": 11,
     "metadata": {},
     "output_type": "execute_result"
    }
   ],
   "source": [
    "gdf.columns"
   ]
  },
  {
   "cell_type": "code",
   "execution_count": 12,
   "id": "330d3aed",
   "metadata": {},
   "outputs": [],
   "source": [
    "gdf_save = gdf.loc[gdf['within_10']].reset_index(drop=True).to_crs('EPSG:3857')"
   ]
  },
  {
   "cell_type": "code",
   "execution_count": 13,
   "id": "25f55f43",
   "metadata": {},
   "outputs": [],
   "source": [
    "gdf_save['distance'] = gdf_save['distance'].apply(lambda x: x.km)"
   ]
  },
  {
   "cell_type": "code",
   "execution_count": 14,
   "id": "c77fa23b",
   "metadata": {},
   "outputs": [
    {
     "data": {
      "text/html": [
       "<div>\n",
       "<style scoped>\n",
       "    .dataframe tbody tr th:only-of-type {\n",
       "        vertical-align: middle;\n",
       "    }\n",
       "\n",
       "    .dataframe tbody tr th {\n",
       "        vertical-align: top;\n",
       "    }\n",
       "\n",
       "    .dataframe thead th {\n",
       "        text-align: right;\n",
       "    }\n",
       "</style>\n",
       "<table border=\"1\" class=\"dataframe\">\n",
       "  <thead>\n",
       "    <tr style=\"text-align: right;\">\n",
       "      <th></th>\n",
       "      <th>addressline</th>\n",
       "      <th>city</th>\n",
       "      <th>state</th>\n",
       "      <th>postcode</th>\n",
       "      <th>STRCT_ID</th>\n",
       "      <th>FIPS</th>\n",
       "      <th>LAG_FT</th>\n",
       "      <th>HAG_FT</th>\n",
       "      <th>FFH_FT</th>\n",
       "      <th>geom</th>\n",
       "      <th>geometry</th>\n",
       "      <th>centroid</th>\n",
       "      <th>distance</th>\n",
       "      <th>within_10</th>\n",
       "    </tr>\n",
       "  </thead>\n",
       "  <tbody>\n",
       "    <tr>\n",
       "      <th>0</th>\n",
       "      <td>850 SANITARIUM RD</td>\n",
       "      <td>DEER PARK</td>\n",
       "      <td>CA</td>\n",
       "      <td>94576</td>\n",
       "      <td>321322448</td>\n",
       "      <td>06055</td>\n",
       "      <td>737.2</td>\n",
       "      <td>746.5</td>\n",
       "      <td>1.0</td>\n",
       "      <td>POLYGON((-122.478484854708 38.5506102352289, -...</td>\n",
       "      <td>POLYGON ((-13634242.567 4657503.252, -13634245...</td>\n",
       "      <td>POINT (-122.47831 38.55054)</td>\n",
       "      <td>2.163731</td>\n",
       "      <td>True</td>\n",
       "    </tr>\n",
       "    <tr>\n",
       "      <th>1</th>\n",
       "      <td>6275 POPE VALLEY RD</td>\n",
       "      <td>POPE VALLEY</td>\n",
       "      <td>CA</td>\n",
       "      <td>94567</td>\n",
       "      <td>321323095</td>\n",
       "      <td>06055</td>\n",
       "      <td>786.0</td>\n",
       "      <td>787.5</td>\n",
       "      <td>2.5</td>\n",
       "      <td>POLYGON((-122.442825951532 38.6230340647152, -...</td>\n",
       "      <td>POLYGON ((-13630273.036 4667817.384, -13630281...</td>\n",
       "      <td>POINT (-122.44286 38.62300)</td>\n",
       "      <td>8.188314</td>\n",
       "      <td>True</td>\n",
       "    </tr>\n",
       "    <tr>\n",
       "      <th>2</th>\n",
       "      <td>1091 DEER PARK RD</td>\n",
       "      <td>DEER PARK</td>\n",
       "      <td>CA</td>\n",
       "      <td>94576</td>\n",
       "      <td>321318798</td>\n",
       "      <td>06055</td>\n",
       "      <td>920.4</td>\n",
       "      <td>924.3</td>\n",
       "      <td>0.5</td>\n",
       "      <td>POLYGON((-122.47149729836 38.5558125492606, -1...</td>\n",
       "      <td>POLYGON ((-13633464.716 4658243.785, -13633479...</td>\n",
       "      <td>POINT (-122.47154 38.55571)</td>\n",
       "      <td>2.396930</td>\n",
       "      <td>True</td>\n",
       "    </tr>\n",
       "    <tr>\n",
       "      <th>3</th>\n",
       "      <td>6299 POPE VALLEY RD</td>\n",
       "      <td>POPE VALLEY</td>\n",
       "      <td>CA</td>\n",
       "      <td>94567</td>\n",
       "      <td>321323097</td>\n",
       "      <td>06055</td>\n",
       "      <td>900.3</td>\n",
       "      <td>908.1</td>\n",
       "      <td>1.0</td>\n",
       "      <td>POLYGON((-122.449858425243 38.6222300663849, -...</td>\n",
       "      <td>POLYGON ((-13631055.888 4667702.827, -13631055...</td>\n",
       "      <td>POINT (-122.44996 38.62219)</td>\n",
       "      <td>7.769890</td>\n",
       "      <td>True</td>\n",
       "    </tr>\n",
       "    <tr>\n",
       "      <th>4</th>\n",
       "      <td>7161 POPE VALLEY RD</td>\n",
       "      <td>POPE VALLEY</td>\n",
       "      <td>CA</td>\n",
       "      <td>94567</td>\n",
       "      <td>321322836</td>\n",
       "      <td>06055</td>\n",
       "      <td>723.6</td>\n",
       "      <td>725.4</td>\n",
       "      <td>1.0</td>\n",
       "      <td>POLYGON((-122.465845050311 38.648421805859, -1...</td>\n",
       "      <td>POLYGON ((-13632835.511 4671435.407, -13632831...</td>\n",
       "      <td>POINT (-122.46584 38.64845)</td>\n",
       "      <td>9.882574</td>\n",
       "      <td>True</td>\n",
       "    </tr>\n",
       "  </tbody>\n",
       "</table>\n",
       "</div>"
      ],
      "text/plain": [
       "           addressline         city state postcode   STRCT_ID   FIPS  LAG_FT  \\\n",
       "0    850 SANITARIUM RD    DEER PARK    CA    94576  321322448  06055   737.2   \n",
       "1  6275 POPE VALLEY RD  POPE VALLEY    CA    94567  321323095  06055   786.0   \n",
       "2    1091 DEER PARK RD    DEER PARK    CA    94576  321318798  06055   920.4   \n",
       "3  6299 POPE VALLEY RD  POPE VALLEY    CA    94567  321323097  06055   900.3   \n",
       "4  7161 POPE VALLEY RD  POPE VALLEY    CA    94567  321322836  06055   723.6   \n",
       "\n",
       "   HAG_FT  FFH_FT                                               geom  \\\n",
       "0   746.5     1.0  POLYGON((-122.478484854708 38.5506102352289, -...   \n",
       "1   787.5     2.5  POLYGON((-122.442825951532 38.6230340647152, -...   \n",
       "2   924.3     0.5  POLYGON((-122.47149729836 38.5558125492606, -1...   \n",
       "3   908.1     1.0  POLYGON((-122.449858425243 38.6222300663849, -...   \n",
       "4   725.4     1.0  POLYGON((-122.465845050311 38.648421805859, -1...   \n",
       "\n",
       "                                            geometry  \\\n",
       "0  POLYGON ((-13634242.567 4657503.252, -13634245...   \n",
       "1  POLYGON ((-13630273.036 4667817.384, -13630281...   \n",
       "2  POLYGON ((-13633464.716 4658243.785, -13633479...   \n",
       "3  POLYGON ((-13631055.888 4667702.827, -13631055...   \n",
       "4  POLYGON ((-13632835.511 4671435.407, -13632831...   \n",
       "\n",
       "                      centroid  distance  within_10  \n",
       "0  POINT (-122.47831 38.55054)  2.163731       True  \n",
       "1  POINT (-122.44286 38.62300)  8.188314       True  \n",
       "2  POINT (-122.47154 38.55571)  2.396930       True  \n",
       "3  POINT (-122.44996 38.62219)  7.769890       True  \n",
       "4  POINT (-122.46584 38.64845)  9.882574       True  "
      ]
     },
     "execution_count": 14,
     "metadata": {},
     "output_type": "execute_result"
    }
   ],
   "source": [
    "gdf_save = gdf_save.rename(columns=dict(zip(['Structure_StdAddressLine', 'Structure_StdCity', 'STructure_StdState',\n",
    "       'Structure_StdPostcode'],[x.lower().replace('structure_std','') for x in ['Structure_StdAddressLine', 'Structure_StdCity', 'STructure_StdState',\n",
    "       'Structure_StdPostcode']])))\n",
    "gdf_save.head()"
   ]
  },
  {
   "cell_type": "code",
   "execution_count": 15,
   "id": "e5faafe7",
   "metadata": {},
   "outputs": [
    {
     "data": {
      "text/plain": [
       "Index(['addressline', 'city', 'state', 'postcode', 'STRCT_ID', 'FIPS',\n",
       "       'LAG_FT', 'HAG_FT', 'FFH_FT', 'geom', 'geometry', 'centroid',\n",
       "       'distance', 'within_10'],\n",
       "      dtype='object')"
      ]
     },
     "execution_count": 15,
     "metadata": {},
     "output_type": "execute_result"
    }
   ],
   "source": [
    "gdf_save.columns"
   ]
  },
  {
   "cell_type": "code",
   "execution_count": 16,
   "id": "df346d54",
   "metadata": {},
   "outputs": [
    {
     "name": "stderr",
     "output_type": "stream",
     "text": [
      "/tmp/ipykernel_14215/3239955059.py:1: UserWarning: Column names longer than 10 characters will be truncated when saved to ESRI Shapefile.\n",
      "  gdf_save[['addressline', 'city', 'state', 'postcode', 'STRCT_ID', 'FIPS', 'LAG_FT', 'HAG_FT',\n"
     ]
    }
   ],
   "source": [
    "gdf_save[['addressline', 'city', 'state', 'postcode', 'STRCT_ID', 'FIPS', 'LAG_FT', 'HAG_FT',\n",
    "       'FFH_FT', 'distance','geometry']].to_file('sample_counties.shp')"
   ]
  },
  {
   "cell_type": "code",
   "execution_count": 17,
   "id": "d6b62f19",
   "metadata": {},
   "outputs": [
    {
     "name": "stdout",
     "output_type": "stream",
     "text": [
      "updating: sample_counties.cpg (stored 0%)\n",
      "updating: sample_counties.dbf (deflated 94%)\n",
      "updating: sample_counties.prj (deflated 42%)\n",
      "updating: sample_counties.shp (deflated 45%)\n",
      "updating: sample_counties.shx (deflated 57%)\n"
     ]
    }
   ],
   "source": [
    "!zip sample_counties.zip sample_counties*"
   ]
  },
  {
   "cell_type": "code",
   "execution_count": null,
   "id": "3480301e",
   "metadata": {},
   "outputs": [],
   "source": []
  }
 ],
 "metadata": {
  "kernelspec": {
   "display_name": "Python 3",
   "language": "python",
   "name": "python3"
  },
  "language_info": {
   "codemirror_mode": {
    "name": "ipython",
    "version": 3
   },
   "file_extension": ".py",
   "mimetype": "text/x-python",
   "name": "python",
   "nbconvert_exporter": "python",
   "pygments_lexer": "ipython3",
   "version": "3.7.10"
  }
 },
 "nbformat": 4,
 "nbformat_minor": 5
}
