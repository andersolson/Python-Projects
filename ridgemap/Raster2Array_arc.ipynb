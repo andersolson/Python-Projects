{
 "cells": [
  {
   "cell_type": "code",
   "execution_count": 1,
   "id": "6b290a98",
   "metadata": {},
   "outputs": [],
   "source": [
    "import arcpy"
   ]
  },
  {
   "cell_type": "code",
   "execution_count": 9,
   "id": "8a561c79",
   "metadata": {},
   "outputs": [],
   "source": [
    "# C:\\Users\\is_olson\\Documents\\Projects\\temp\\2965_1880\\2965_1880_elev.asc\n",
    "# C:\\Users\\is_olson\\Documents\\Projects\\temp\\c2965_1880_elev.tif\n",
    "inRas = arcpy.Raster(r'C:\\Users\\is_olson\\Documents\\Projects\\temp\\c2965_1880_elev.tif')"
   ]
  },
  {
   "cell_type": "code",
   "execution_count": 10,
   "id": "a0bbccc5",
   "metadata": {},
   "outputs": [
    {
     "ename": "ValueError",
     "evalue": "Argument in_array: A two or three dimensional NumPy array is required.",
     "output_type": "error",
     "traceback": [
      "\u001b[1;31m---------------------------------------------------------------------------\u001b[0m",
      "\u001b[1;31mValueError\u001b[0m                                Traceback (most recent call last)",
      "\u001b[1;32m~\\AppData\\Local\\Temp\\ipykernel_4176\\4080509476.py\u001b[0m in \u001b[0;36m<cell line: 1>\u001b[1;34m()\u001b[0m\n\u001b[1;32m----> 1\u001b[1;33m \u001b[0marr\u001b[0m \u001b[1;33m=\u001b[0m \u001b[0marcpy\u001b[0m\u001b[1;33m.\u001b[0m\u001b[0mNumPyArrayToRaster\u001b[0m\u001b[1;33m(\u001b[0m\u001b[0minRas\u001b[0m\u001b[1;33m)\u001b[0m\u001b[1;33m\u001b[0m\u001b[1;33m\u001b[0m\u001b[0m\n\u001b[0m",
      "\u001b[1;32mC:\\Program Files\\ArcGIS\\Pro\\Resources\\ArcPy\\arcpy\\__init__.py\u001b[0m in \u001b[0;36mNumPyArrayToRaster\u001b[1;34m(*args, **kwargs)\u001b[0m\n\u001b[0;32m   2528\u001b[0m          \u001b[0mmdinfo\u001b[0m\u001b[1;33m:\u001b[0m\u001b[1;33m\u001b[0m\u001b[1;33m\u001b[0m\u001b[0m\n\u001b[0;32m   2529\u001b[0m        The json or string that defines the multidimensional information\"\"\"\n\u001b[1;32m-> 2530\u001b[1;33m     \u001b[1;32mreturn\u001b[0m \u001b[0m_NumPyArrayToRaster\u001b[0m\u001b[1;33m(\u001b[0m\u001b[1;33m*\u001b[0m\u001b[0margs\u001b[0m\u001b[1;33m,\u001b[0m \u001b[1;33m**\u001b[0m\u001b[0mkwargs\u001b[0m\u001b[1;33m)\u001b[0m\u001b[1;33m\u001b[0m\u001b[1;33m\u001b[0m\u001b[0m\n\u001b[0m\u001b[0;32m   2531\u001b[0m \u001b[1;33m\u001b[0m\u001b[0m\n\u001b[0;32m   2532\u001b[0m \u001b[1;32mdef\u001b[0m \u001b[0mGetImageEXIFProperties\u001b[0m\u001b[1;33m(\u001b[0m\u001b[1;33m*\u001b[0m\u001b[0margs\u001b[0m\u001b[1;33m,\u001b[0m \u001b[1;33m**\u001b[0m\u001b[0mkwargs\u001b[0m\u001b[1;33m)\u001b[0m\u001b[1;33m:\u001b[0m\u001b[1;33m\u001b[0m\u001b[1;33m\u001b[0m\u001b[0m\n",
      "\u001b[1;31mValueError\u001b[0m: Argument in_array: A two or three dimensional NumPy array is required."
     ]
    }
   ],
   "source": [
    "arr = arcpy.NumPyArrayToRaster(inRas)"
   ]
  },
  {
   "cell_type": "code",
   "execution_count": null,
   "id": "b27f127a",
   "metadata": {},
   "outputs": [],
   "source": []
  }
 ],
 "metadata": {
  "kernelspec": {
   "display_name": "Python 3 (ipykernel)",
   "language": "python",
   "name": "python3"
  },
  "language_info": {
   "codemirror_mode": {
    "name": "ipython",
    "version": 3
   },
   "file_extension": ".py",
   "mimetype": "text/x-python",
   "name": "python",
   "nbconvert_exporter": "python",
   "pygments_lexer": "ipython3",
   "version": "3.9.18"
  }
 },
 "nbformat": 4,
 "nbformat_minor": 5
}
