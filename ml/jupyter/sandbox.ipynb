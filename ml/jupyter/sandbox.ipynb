{
 "cells": [
  {
   "cell_type": "code",
   "execution_count": 1,
   "id": "b509553c",
   "metadata": {},
   "outputs": [],
   "source": [
    "import geopandas as gpd\n",
    "import random"
   ]
  },
  {
   "cell_type": "code",
   "execution_count": 2,
   "id": "b7dbf314",
   "metadata": {},
   "outputs": [
    {
     "ename": "DriverError",
     "evalue": "D:\\Projects\\Github\\SAGIS-Users\\anderso\\FirebreakEnhancement\\data\\Internal\\CO_Agriculture.shp: No such file or directory",
     "output_type": "error",
     "traceback": [
      "\u001b[1;31m---------------------------------------------------------------------------\u001b[0m",
      "\u001b[1;31mCPLE_OpenFailedError\u001b[0m                      Traceback (most recent call last)",
      "File \u001b[1;32mfiona/_shim.pyx:83\u001b[0m, in \u001b[0;36mfiona._shim.gdal_open_vector\u001b[1;34m()\u001b[0m\n",
      "File \u001b[1;32mfiona/_err.pyx:270\u001b[0m, in \u001b[0;36mfiona._err.exc_wrap_pointer\u001b[1;34m()\u001b[0m\n",
      "\u001b[1;31mCPLE_OpenFailedError\u001b[0m: D:\\Projects\\Github\\SAGIS-Users\\anderso\\FirebreakEnhancement\\data\\Internal\\CO_Agriculture.shp: No such file or directory",
      "\nDuring handling of the above exception, another exception occurred:\n",
      "\u001b[1;31mDriverError\u001b[0m                               Traceback (most recent call last)",
      "Cell \u001b[1;32mIn[2], line 4\u001b[0m\n\u001b[0;32m      1\u001b[0m firebreakRoot \u001b[38;5;241m=\u001b[39m \u001b[38;5;124mr\u001b[39m\u001b[38;5;124m'\u001b[39m\u001b[38;5;124mD:\u001b[39m\u001b[38;5;124m\\\u001b[39m\u001b[38;5;124mProjects\u001b[39m\u001b[38;5;124m\\\u001b[39m\u001b[38;5;124mGithub\u001b[39m\u001b[38;5;124m\\\u001b[39m\u001b[38;5;124mSAGIS-Users\u001b[39m\u001b[38;5;124m\\\u001b[39m\u001b[38;5;124manderso\u001b[39m\u001b[38;5;124m\\\u001b[39m\u001b[38;5;124mFirebreakEnhancement\u001b[39m\u001b[38;5;124m\\\u001b[39m\u001b[38;5;124mdata\u001b[39m\u001b[38;5;124m\\\u001b[39m\u001b[38;5;124mInternal\u001b[39m\u001b[38;5;124m'\u001b[39m \n\u001b[0;32m      2\u001b[0m firebreakPath \u001b[38;5;241m=\u001b[39m \u001b[38;5;124mr\u001b[39m\u001b[38;5;124m'\u001b[39m\u001b[38;5;132;01m{0}\u001b[39;00m\u001b[38;5;124m\\\u001b[39m\u001b[38;5;132;01m{1}\u001b[39;00m\u001b[38;5;124m'\u001b[39m\u001b[38;5;241m.\u001b[39mformat(firebreakRoot,\u001b[38;5;124m'\u001b[39m\u001b[38;5;124mCO_Agriculture.shp\u001b[39m\u001b[38;5;124m'\u001b[39m)\n\u001b[1;32m----> 4\u001b[0m gpRead \u001b[38;5;241m=\u001b[39m \u001b[43mgpd\u001b[49m\u001b[38;5;241;43m.\u001b[39;49m\u001b[43mread_file\u001b[49m\u001b[43m(\u001b[49m\u001b[43mfirebreakPath\u001b[49m\u001b[43m)\u001b[49m\n",
      "File \u001b[1;32m~\\anaconda3\\envs\\mlai\\lib\\site-packages\\geopandas\\io\\file.py:160\u001b[0m, in \u001b[0;36m_read_file\u001b[1;34m(filename, bbox, mask, rows, **kwargs)\u001b[0m\n\u001b[0;32m    157\u001b[0m     reader \u001b[38;5;241m=\u001b[39m fiona\u001b[38;5;241m.\u001b[39mopen\n\u001b[0;32m    159\u001b[0m \u001b[38;5;28;01mwith\u001b[39;00m fiona_env():\n\u001b[1;32m--> 160\u001b[0m     \u001b[38;5;28;01mwith\u001b[39;00m reader(path_or_bytes, \u001b[38;5;241m*\u001b[39m\u001b[38;5;241m*\u001b[39mkwargs) \u001b[38;5;28;01mas\u001b[39;00m features:\n\u001b[0;32m    161\u001b[0m \n\u001b[0;32m    162\u001b[0m         \u001b[38;5;66;03m# In a future Fiona release the crs attribute of features will\u001b[39;00m\n\u001b[0;32m    163\u001b[0m         \u001b[38;5;66;03m# no longer be a dict, but will behave like a dict. So this should\u001b[39;00m\n\u001b[0;32m    164\u001b[0m         \u001b[38;5;66;03m# be forwards compatible\u001b[39;00m\n\u001b[0;32m    165\u001b[0m         crs \u001b[38;5;241m=\u001b[39m (\n\u001b[0;32m    166\u001b[0m             features\u001b[38;5;241m.\u001b[39mcrs[\u001b[38;5;124m\"\u001b[39m\u001b[38;5;124minit\u001b[39m\u001b[38;5;124m\"\u001b[39m]\n\u001b[0;32m    167\u001b[0m             \u001b[38;5;28;01mif\u001b[39;00m features\u001b[38;5;241m.\u001b[39mcrs \u001b[38;5;129;01mand\u001b[39;00m \u001b[38;5;124m\"\u001b[39m\u001b[38;5;124minit\u001b[39m\u001b[38;5;124m\"\u001b[39m \u001b[38;5;129;01min\u001b[39;00m features\u001b[38;5;241m.\u001b[39mcrs\n\u001b[0;32m    168\u001b[0m             \u001b[38;5;28;01melse\u001b[39;00m features\u001b[38;5;241m.\u001b[39mcrs_wkt\n\u001b[0;32m    169\u001b[0m         )\n\u001b[0;32m    171\u001b[0m         \u001b[38;5;66;03m# handle loading the bounding box\u001b[39;00m\n",
      "File \u001b[1;32m~\\anaconda3\\envs\\mlai\\lib\\site-packages\\fiona\\env.py:398\u001b[0m, in \u001b[0;36mensure_env_with_credentials.<locals>.wrapper\u001b[1;34m(*args, **kwargs)\u001b[0m\n\u001b[0;32m    395\u001b[0m \u001b[38;5;129m@wraps\u001b[39m(f)\n\u001b[0;32m    396\u001b[0m \u001b[38;5;28;01mdef\u001b[39;00m \u001b[38;5;21mwrapper\u001b[39m(\u001b[38;5;241m*\u001b[39margs, \u001b[38;5;241m*\u001b[39m\u001b[38;5;241m*\u001b[39mkwargs):\n\u001b[0;32m    397\u001b[0m     \u001b[38;5;28;01mif\u001b[39;00m local\u001b[38;5;241m.\u001b[39m_env:\n\u001b[1;32m--> 398\u001b[0m         \u001b[38;5;28;01mreturn\u001b[39;00m f(\u001b[38;5;241m*\u001b[39margs, \u001b[38;5;241m*\u001b[39m\u001b[38;5;241m*\u001b[39mkwargs)\n\u001b[0;32m    399\u001b[0m     \u001b[38;5;28;01melse\u001b[39;00m:\n\u001b[0;32m    400\u001b[0m         \u001b[38;5;28;01mif\u001b[39;00m \u001b[38;5;28misinstance\u001b[39m(args[\u001b[38;5;241m0\u001b[39m], \u001b[38;5;28mstr\u001b[39m):\n",
      "File \u001b[1;32m~\\anaconda3\\envs\\mlai\\lib\\site-packages\\fiona\\__init__.py:253\u001b[0m, in \u001b[0;36mopen\u001b[1;34m(fp, mode, driver, schema, crs, encoding, layer, vfs, enabled_drivers, crs_wkt, **kwargs)\u001b[0m\n\u001b[0;32m    250\u001b[0m     path \u001b[38;5;241m=\u001b[39m parse_path(fp)\n\u001b[0;32m    252\u001b[0m \u001b[38;5;28;01mif\u001b[39;00m mode \u001b[38;5;129;01min\u001b[39;00m (\u001b[38;5;124m'\u001b[39m\u001b[38;5;124ma\u001b[39m\u001b[38;5;124m'\u001b[39m, \u001b[38;5;124m'\u001b[39m\u001b[38;5;124mr\u001b[39m\u001b[38;5;124m'\u001b[39m):\n\u001b[1;32m--> 253\u001b[0m     c \u001b[38;5;241m=\u001b[39m Collection(path, mode, driver\u001b[38;5;241m=\u001b[39mdriver, encoding\u001b[38;5;241m=\u001b[39mencoding,\n\u001b[0;32m    254\u001b[0m                    layer\u001b[38;5;241m=\u001b[39mlayer, enabled_drivers\u001b[38;5;241m=\u001b[39menabled_drivers, \u001b[38;5;241m*\u001b[39m\u001b[38;5;241m*\u001b[39mkwargs)\n\u001b[0;32m    255\u001b[0m \u001b[38;5;28;01melif\u001b[39;00m mode \u001b[38;5;241m==\u001b[39m \u001b[38;5;124m'\u001b[39m\u001b[38;5;124mw\u001b[39m\u001b[38;5;124m'\u001b[39m:\n\u001b[0;32m    256\u001b[0m     \u001b[38;5;28;01mif\u001b[39;00m schema:\n\u001b[0;32m    257\u001b[0m         \u001b[38;5;66;03m# Make an ordered dict of schema properties.\u001b[39;00m\n",
      "File \u001b[1;32m~\\anaconda3\\envs\\mlai\\lib\\site-packages\\fiona\\collection.py:154\u001b[0m, in \u001b[0;36mCollection.__init__\u001b[1;34m(self, path, mode, driver, schema, crs, encoding, layer, vsi, archive, enabled_drivers, crs_wkt, ignore_fields, ignore_geometry, **kwargs)\u001b[0m\n\u001b[0;32m    152\u001b[0m \u001b[38;5;28;01mif\u001b[39;00m \u001b[38;5;28mself\u001b[39m\u001b[38;5;241m.\u001b[39mmode \u001b[38;5;241m==\u001b[39m \u001b[38;5;124m'\u001b[39m\u001b[38;5;124mr\u001b[39m\u001b[38;5;124m'\u001b[39m:\n\u001b[0;32m    153\u001b[0m     \u001b[38;5;28mself\u001b[39m\u001b[38;5;241m.\u001b[39msession \u001b[38;5;241m=\u001b[39m Session()\n\u001b[1;32m--> 154\u001b[0m     \u001b[38;5;28mself\u001b[39m\u001b[38;5;241m.\u001b[39msession\u001b[38;5;241m.\u001b[39mstart(\u001b[38;5;28mself\u001b[39m, \u001b[38;5;241m*\u001b[39m\u001b[38;5;241m*\u001b[39mkwargs)\n\u001b[0;32m    155\u001b[0m \u001b[38;5;28;01melif\u001b[39;00m \u001b[38;5;28mself\u001b[39m\u001b[38;5;241m.\u001b[39mmode \u001b[38;5;129;01min\u001b[39;00m (\u001b[38;5;124m'\u001b[39m\u001b[38;5;124ma\u001b[39m\u001b[38;5;124m'\u001b[39m, \u001b[38;5;124m'\u001b[39m\u001b[38;5;124mw\u001b[39m\u001b[38;5;124m'\u001b[39m):\n\u001b[0;32m    156\u001b[0m     \u001b[38;5;28mself\u001b[39m\u001b[38;5;241m.\u001b[39msession \u001b[38;5;241m=\u001b[39m WritingSession()\n",
      "File \u001b[1;32mfiona/ogrext.pyx:484\u001b[0m, in \u001b[0;36mfiona.ogrext.Session.start\u001b[1;34m()\u001b[0m\n",
      "File \u001b[1;32mfiona/_shim.pyx:90\u001b[0m, in \u001b[0;36mfiona._shim.gdal_open_vector\u001b[1;34m()\u001b[0m\n",
      "\u001b[1;31mDriverError\u001b[0m: D:\\Projects\\Github\\SAGIS-Users\\anderso\\FirebreakEnhancement\\data\\Internal\\CO_Agriculture.shp: No such file or directory"
     ]
    }
   ],
   "source": [
    "firebreakRoot = r'D:\\Projects\\Github\\SAGIS-Users\\anderso\\FirebreakEnhancement\\data\\Internal' \n",
    "firebreakPath = r'{0}\\{1}'.format(firebreakRoot,'CO_Agriculture.shp')\n",
    "\n",
    "gpRead = gpd.read_file(firebreakPath)"
   ]
  },
  {
   "cell_type": "code",
   "execution_count": null,
   "id": "188cdcd5",
   "metadata": {},
   "outputs": [],
   "source": [
    "gpRead.head()"
   ]
  },
  {
   "cell_type": "code",
   "execution_count": null,
   "id": "55366b1b",
   "metadata": {},
   "outputs": [],
   "source": [
    "len(gpRead)"
   ]
  },
  {
   "cell_type": "code",
   "execution_count": null,
   "id": "ff78b44a",
   "metadata": {},
   "outputs": [],
   "source": [
    "import random\n",
    "\n",
    "# Get the total count of features\n",
    "r = len(gpRead)\n",
    "\n",
    "# Generate 70 unique random numbers within a range of the feature count\n",
    "num_list = random.sample(range(0, r), 70)\n",
    "print(num_list)"
   ]
  },
  {
   "cell_type": "code",
   "execution_count": null,
   "id": "fb89793c",
   "metadata": {},
   "outputs": [],
   "source": [
    "gdfQuery = gpRead.iloc[num_list]\n",
    "\n",
    "len(gdfQuery)"
   ]
  },
  {
   "cell_type": "code",
   "execution_count": null,
   "id": "ced966a8",
   "metadata": {},
   "outputs": [],
   "source": [
    "gdfQuery.head()"
   ]
  },
  {
   "cell_type": "code",
   "execution_count": null,
   "id": "9ff219a8",
   "metadata": {},
   "outputs": [],
   "source": [
    "gdfQuery.to_file(firebreakRoot + r\"\\AG_poly.shp\")"
   ]
  },
  {
   "cell_type": "code",
   "execution_count": 3,
   "id": "f4fc76a6",
   "metadata": {},
   "outputs": [],
   "source": [
    "zipSHP = r'D:\\Projects\\Github\\SAGIS-Users\\anderso\\FirebreakEnhancement\\data\\Firebreak_2022_11_Labels.zip'\n",
    "gpRead = gpd.read_file(zipSHP)"
   ]
  },
  {
   "cell_type": "code",
   "execution_count": 4,
   "id": "66f0f158",
   "metadata": {},
   "outputs": [
    {
     "name": "stderr",
     "output_type": "stream",
     "text": [
      "C:\\Users\\andolson\\anaconda3\\envs\\mlai\\lib\\site-packages\\geopandas\\io\\file.py:299: FutureWarning: pandas.Int64Index is deprecated and will be removed from pandas in a future version. Use pandas.Index with the appropriate dtype instead.\n",
      "  pd.Int64Index,\n"
     ]
    }
   ],
   "source": [
    "\n",
    "gpRead.to_file(r\"D:\\Projects\\Github\\SAGIS-Users\\anderso\\FirebreakEnhancement\\data\\Firebreak_2022_11_Labels.geojson\", driver='GeoJSON')"
   ]
  },
  {
   "cell_type": "code",
   "execution_count": 1,
   "id": "4b18d6d1",
   "metadata": {},
   "outputs": [
    {
     "name": "stdout",
     "output_type": "stream",
     "text": [
      "Code Executed\n",
      "This message is delayed 10 seconds\n"
     ]
    }
   ],
   "source": [
    "import time\n",
    "\n",
    "print('Code Executed')\n",
    "\n",
    "time.sleep(10)\n",
    "\n",
    "print('This message is delayed 10 seconds')"
   ]
  },
  {
   "cell_type": "code",
   "execution_count": 4,
   "id": "f4a6bae8",
   "metadata": {},
   "outputs": [
    {
     "name": "stdout",
     "output_type": "stream",
     "text": [
      "number is 0\n",
      "number is 1\n",
      "number is 2\n",
      "number is 3\n",
      "number is 4\n"
     ]
    }
   ],
   "source": [
    "batch = range(5)\n",
    "\n",
    "for i in batch:\n",
    "    print('number is ' + str(i))\n",
    "    time.sleep(5)"
   ]
  },
  {
   "cell_type": "code",
   "execution_count": 5,
   "id": "96bf3a86",
   "metadata": {},
   "outputs": [],
   "source": [
    "def process():\n",
    "    count = 0\n",
    "    while count <5:\n",
    "        print(count)\n",
    "        count += 1"
   ]
  },
  {
   "cell_type": "code",
   "execution_count": 8,
   "id": "fa8fa3bf",
   "metadata": {},
   "outputs": [
    {
     "name": "stdout",
     "output_type": "stream",
     "text": [
      "0\n",
      "1\n",
      "2\n",
      "3\n",
      "4\n",
      "10sec delay\n",
      "0\n",
      "1\n",
      "2\n",
      "3\n",
      "4\n",
      "10sec delay\n",
      "0\n",
      "1\n",
      "2\n",
      "3\n",
      "4\n",
      "10sec delay\n",
      "0\n",
      "1\n",
      "2\n",
      "3\n",
      "4\n",
      "10sec delay\n",
      "0\n",
      "1\n",
      "2\n",
      "3\n",
      "4\n",
      "10sec delay\n"
     ]
    }
   ],
   "source": [
    "for i in batch:\n",
    "    process()\n",
    "    time.sleep(10)\n",
    "    print('10sec delay')"
   ]
  },
  {
   "cell_type": "code",
   "execution_count": null,
   "id": "c636116b",
   "metadata": {},
   "outputs": [],
   "source": [
    "status_codes = Parallel(n_jobs=10,backend='threading')\n",
    "(delayed(save_data)(url=url,path=path) for url,path in zip(url_list,save_list))\n",
    "\n",
    "for url,path in zip(url_list,save_list):\n",
    "    Parallel(n_jobs=10,backend='threading')(delayed(save_data)(url=url,path=path))\n",
    "    \n"
   ]
  },
  {
   "cell_type": "code",
   "execution_count": 2,
   "id": "53e06e4c",
   "metadata": {},
   "outputs": [],
   "source": [
    "from osgeo import gdal"
   ]
  },
  {
   "cell_type": "code",
   "execution_count": 1,
   "id": "dcd49497",
   "metadata": {},
   "outputs": [],
   "source": [
    "from fastai.vision.all import *\n"
   ]
  },
  {
   "cell_type": "code",
   "execution_count": 2,
   "id": "eccde32b",
   "metadata": {},
   "outputs": [
    {
     "data": {
      "image/png": "[encoded data removed]",
      "text/plain": [
       "<PIL.Image.Image image mode=RGB size=256x256>"
      ]
     },
     "execution_count": 2,
     "metadata": {},
     "output_type": "execute_result"
    }
   ],
   "source": [
    "img = load_image(r'D:\\Projects\\WORKING\\ML\\imagery\\CO_Water_Wildland\\water\\970072.jpg')\n",
    "img"
   ]
  },
  {
   "cell_type": "code",
   "execution_count": 3,
   "id": "479380d9",
   "metadata": {},
   "outputs": [],
   "source": [
    "from pyproj import Transformer"
   ]
  },
  {
   "cell_type": "code",
   "execution_count": 4,
   "id": "aba4f1ce",
   "metadata": {},
   "outputs": [
    {
     "data": {
      "text/plain": [
       "<Conversion Transformer: pipeline>\n",
       "Description: Popular Visualisation Pseudo-Mercator\n",
       "Area of Use:\n",
       "- name: World\n",
       "- bounds: (-180.0, -90.0, 180.0, 90.0)"
      ]
     },
     "execution_count": 4,
     "metadata": {},
     "output_type": "execute_result"
    }
   ],
   "source": [
    "transformer = Transformer.from_crs(4326,3857)\n",
    "transformer"
   ]
  },
  {
   "cell_type": "code",
   "execution_count": 6,
   "id": "4ff508c8",
   "metadata": {},
   "outputs": [
    {
     "data": {
      "text/plain": [
       "(-12178392.14516183, 4092669.6130441455)"
      ]
     },
     "execution_count": 6,
     "metadata": {},
     "output_type": "execute_result"
    }
   ],
   "source": [
    "transformer.transform(34.47431100000006, -109.40035799999998)"
   ]
  },
  {
   "cell_type": "code",
   "execution_count": 7,
   "id": "ef2bc312",
   "metadata": {},
   "outputs": [
    {
     "data": {
      "text/plain": [
       "(-12177873.618973715, 4093130.6291889297)"
      ]
     },
     "execution_count": 7,
     "metadata": {},
     "output_type": "execute_result"
    }
   ],
   "source": [
    "transformer.transform(34.47772500000008, -109.39569999999998)"
   ]
  },
  {
   "cell_type": "markdown",
   "id": "3d4c2c96",
   "metadata": {},
   "source": [
    "Set the option for `always_xy`. This changes the transformer to always have the axis order in the x,y or lon,lat order. "
   ]
  },
  {
   "cell_type": "code",
   "execution_count": 9,
   "id": "8a3514c7",
   "metadata": {},
   "outputs": [
    {
     "data": {
      "text/plain": [
       "<Concatenated Operation Transformer: pipeline>\n",
       "Description: axis order change (2D) + Popular Visualisation Pseudo-Mercator\n",
       "Area of Use:\n",
       "- name: World\n",
       "- bounds: (-180.0, -90.0, 180.0, 90.0)"
      ]
     },
     "execution_count": 9,
     "metadata": {},
     "output_type": "execute_result"
    }
   ],
   "source": [
    "transformer = Transformer.from_crs(4326,3857,always_xy=True)\n",
    "transformer"
   ]
  },
  {
   "cell_type": "code",
   "execution_count": 10,
   "id": "5bd93dc8",
   "metadata": {},
   "outputs": [
    {
     "data": {
      "text/plain": [
       "(-12613954.143178487, 3907167.1711437274)"
      ]
     },
     "execution_count": 10,
     "metadata": {},
     "output_type": "execute_result"
    }
   ],
   "source": [
    "transformer.transform(-113.31307799999996, 33.08933100000007) #input is lon,lat"
   ]
  },
  {
   "cell_type": "markdown",
   "id": "2ccfdfd6",
   "metadata": {},
   "source": [
    "Try running the transformer with the `transform_bounds` method."
   ]
  },
  {
   "cell_type": "code",
   "execution_count": 6,
   "id": "ef66f3b5",
   "metadata": {},
   "outputs": [
    {
     "name": "stdout",
     "output_type": "stream",
     "text": [
      "(-12742548.637831025, 4003024.4385768757, -12742030.11164291, 4003478.2147859987)\n"
     ]
    }
   ],
   "source": [
    "from pyproj import CRS, Transformer\n",
    "\n",
    "x_min,y_min,x_max,y_max = -114.46826199999998, 33.80780800000008, -114.46360399999998, 33.811195000000055\n",
    "\n",
    "proj = Transformer.from_crs(4326,3857,always_xy=True)\n",
    "ll = proj.transform(x_min,y_min)\n",
    "ur = proj.transform(x_max,y_max)\n",
    "\n",
    "#type(ll)\n",
    "#type(ur)\n",
    "bbox = ll + ur\n",
    "\n",
    "print(bbox)\n"
   ]
  },
  {
   "cell_type": "code",
   "execution_count": null,
   "id": "9ee3b46c",
   "metadata": {},
   "outputs": [],
   "source": []
  }
 ],
 "metadata": {
  "kernelspec": {
   "display_name": "Python 3 (ipykernel)",
   "language": "python",
   "name": "python3"
  },
  "language_info": {
   "codemirror_mode": {
    "name": "ipython",
    "version": 3
   },
   "file_extension": ".py",
   "mimetype": "text/x-python",
   "name": "python",
   "nbconvert_exporter": "python",
   "pygments_lexer": "ipython3",
   "version": "3.9.16"
  }
 },
 "nbformat": 4,
 "nbformat_minor": 5
}
