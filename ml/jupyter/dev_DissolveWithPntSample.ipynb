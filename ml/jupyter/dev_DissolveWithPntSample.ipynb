{
 "cells": [
  {
   "cell_type": "code",
   "execution_count": 4,
   "id": "74f852a8",
   "metadata": {},
   "outputs": [],
   "source": [
    "import geopandas as gpd\n",
    "import matplotlib.pyplot as plt\n",
    "import numpy as np\n",
    "from shapely.geometry import Point, Polygon\n",
    "import pandas as pd"
   ]
  },
  {
   "cell_type": "code",
   "execution_count": 5,
   "id": "8c936d58",
   "metadata": {},
   "outputs": [
    {
     "data": {
      "text/plain": [
       "<AxesSubplot: >"
      ]
     },
     "execution_count": 5,
     "metadata": {},
     "output_type": "execute_result"
    },
    {
     "data": {
      "image/png": "[encoded data removed]",
      "text/plain": [
       "<Figure size 640x480 with 1 Axes>"
      ]
     },
     "metadata": {},
     "output_type": "display_data"
    }
   ],
   "source": [
    "firebreakRoot = r'D:\\Projects\\Github\\SAGIS-Users\\anderso\\FirebreakEnhancement\\data\\Internal' \n",
    "firebreakPath = r'{0}\\{1}'.format(firebreakRoot,'Firebreak_2022_11_CO_Internal.shp')\n",
    "\n",
    "fbState = gpd.read_file(firebreakPath)\n",
    "\n",
    "#ag  = fbState[fbState['RISK_VALUE']==1]\n",
    "#hdr = fbState[fbState['RISK_VALUE']==2]\n",
    "#mdr = fbState[fbState['RISK_VALUE']==3]\n",
    "#ldr = fbState[fbState['RISK_VALUE']==4]\n",
    "#sr  = fbState[fbState['RISK_VALUE']==5]\n",
    "urb   = fbState[fbState['RISK_VALUE']==6]\n",
    "#unr = fbState[fbState['RISK_VALUE']==7]\n",
    "#h2o = fbState[fbState['RISK_VALUE']==8]\n",
    "#wl  = fbState[fbState['RISK_VALUE']==9]\n",
    "\n",
    "urb.plot()\n"
   ]
  },
  {
   "cell_type": "code",
   "execution_count": 6,
   "id": "11a87432",
   "metadata": {},
   "outputs": [
    {
     "data": {
      "text/plain": [
       "1522981    Polygon\n",
       "1523188    Polygon\n",
       "1523189    Polygon\n",
       "1523200    Polygon\n",
       "1523221    Polygon\n",
       "dtype: object"
      ]
     },
     "execution_count": 6,
     "metadata": {},
     "output_type": "execute_result"
    }
   ],
   "source": [
    "urb.geom_type.head()"
   ]
  },
  {
   "cell_type": "code",
   "execution_count": 7,
   "id": "7a91b50c",
   "metadata": {},
   "outputs": [
    {
     "data": {
      "text/html": [
       "<div>\n",
       "<style scoped>\n",
       "    .dataframe tbody tr th:only-of-type {\n",
       "        vertical-align: middle;\n",
       "    }\n",
       "\n",
       "    .dataframe tbody tr th {\n",
       "        vertical-align: top;\n",
       "    }\n",
       "\n",
       "    .dataframe thead th {\n",
       "        text-align: right;\n",
       "    }\n",
       "</style>\n",
       "<table border=\"1\" class=\"dataframe\">\n",
       "  <thead>\n",
       "    <tr style=\"text-align: right;\">\n",
       "      <th></th>\n",
       "      <th>STATE</th>\n",
       "      <th>BREAK_NAME</th>\n",
       "      <th>RISK_VALUE</th>\n",
       "      <th>FLAG</th>\n",
       "      <th>geometry</th>\n",
       "    </tr>\n",
       "  </thead>\n",
       "  <tbody>\n",
       "    <tr>\n",
       "      <th>1522981</th>\n",
       "      <td>Colorado</td>\n",
       "      <td>Urban</td>\n",
       "      <td>6</td>\n",
       "      <td>None</td>\n",
       "      <td>POLYGON ((-105.03115 39.66841, -105.03581 39.6...</td>\n",
       "    </tr>\n",
       "    <tr>\n",
       "      <th>1523188</th>\n",
       "      <td>Colorado</td>\n",
       "      <td>Urban</td>\n",
       "      <td>6</td>\n",
       "      <td>None</td>\n",
       "      <td>POLYGON ((-105.02650 39.87714, -105.03115 39.8...</td>\n",
       "    </tr>\n",
       "    <tr>\n",
       "      <th>1523189</th>\n",
       "      <td>Colorado</td>\n",
       "      <td>Urban</td>\n",
       "      <td>6</td>\n",
       "      <td>None</td>\n",
       "      <td>POLYGON ((-105.10102 40.38883, -105.10568 40.3...</td>\n",
       "    </tr>\n",
       "    <tr>\n",
       "      <th>1523200</th>\n",
       "      <td>Colorado</td>\n",
       "      <td>Urban</td>\n",
       "      <td>6</td>\n",
       "      <td>None</td>\n",
       "      <td>POLYGON ((-104.85415 38.82888, -104.85881 38.8...</td>\n",
       "    </tr>\n",
       "    <tr>\n",
       "      <th>1523221</th>\n",
       "      <td>Colorado</td>\n",
       "      <td>Urban</td>\n",
       "      <td>6</td>\n",
       "      <td>None</td>\n",
       "      <td>POLYGON ((-104.84483 39.66841, -104.84949 39.6...</td>\n",
       "    </tr>\n",
       "  </tbody>\n",
       "</table>\n",
       "</div>"
      ],
      "text/plain": [
       "            STATE BREAK_NAME  RISK_VALUE  FLAG  \\\n",
       "1522981  Colorado      Urban           6  None   \n",
       "1523188  Colorado      Urban           6  None   \n",
       "1523189  Colorado      Urban           6  None   \n",
       "1523200  Colorado      Urban           6  None   \n",
       "1523221  Colorado      Urban           6  None   \n",
       "\n",
       "                                                  geometry  \n",
       "1522981  POLYGON ((-105.03115 39.66841, -105.03581 39.6...  \n",
       "1523188  POLYGON ((-105.02650 39.87714, -105.03115 39.8...  \n",
       "1523189  POLYGON ((-105.10102 40.38883, -105.10568 40.3...  \n",
       "1523200  POLYGON ((-104.85415 38.82888, -104.85881 38.8...  \n",
       "1523221  POLYGON ((-104.84483 39.66841, -104.84949 39.6...  "
      ]
     },
     "execution_count": 7,
     "metadata": {},
     "output_type": "execute_result"
    }
   ],
   "source": [
    "urb.head()"
   ]
  },
  {
   "cell_type": "code",
   "execution_count": 8,
   "id": "8d8fdb0b",
   "metadata": {},
   "outputs": [
    {
     "data": {
      "text/html": [
       "<div>\n",
       "<style scoped>\n",
       "    .dataframe tbody tr th:only-of-type {\n",
       "        vertical-align: middle;\n",
       "    }\n",
       "\n",
       "    .dataframe tbody tr th {\n",
       "        vertical-align: top;\n",
       "    }\n",
       "\n",
       "    .dataframe thead th {\n",
       "        text-align: right;\n",
       "    }\n",
       "</style>\n",
       "<table border=\"1\" class=\"dataframe\">\n",
       "  <thead>\n",
       "    <tr style=\"text-align: right;\">\n",
       "      <th></th>\n",
       "      <th>geometry</th>\n",
       "    </tr>\n",
       "    <tr>\n",
       "      <th>BREAK_NAME</th>\n",
       "      <th></th>\n",
       "    </tr>\n",
       "  </thead>\n",
       "  <tbody>\n",
       "    <tr>\n",
       "      <th>Urban</th>\n",
       "      <td>MULTIPOLYGON (((-104.62591 38.23523, -104.6305...</td>\n",
       "    </tr>\n",
       "  </tbody>\n",
       "</table>\n",
       "</div>"
      ],
      "text/plain": [
       "                                                     geometry\n",
       "BREAK_NAME                                                   \n",
       "Urban       MULTIPOLYGON (((-104.62591 38.23523, -104.6305..."
      ]
     },
     "execution_count": 8,
     "metadata": {},
     "output_type": "execute_result"
    }
   ],
   "source": [
    "urbBoundary = urb[['BREAK_NAME','geometry']]\n",
    "\n",
    "dissolveUrb = urbBoundary.dissolve(by='BREAK_NAME')\n",
    "\n",
    "dissolveUrb.head()"
   ]
  },
  {
   "cell_type": "code",
   "execution_count": 10,
   "id": "a313f423",
   "metadata": {},
   "outputs": [
    {
     "name": "stderr",
     "output_type": "stream",
     "text": [
      "C:\\Users\\andolson\\anaconda3\\envs\\mlai\\lib\\site-packages\\geopandas\\io\\file.py:299: FutureWarning: pandas.Int64Index is deprecated and will be removed from pandas in a future version. Use pandas.Index with the appropriate dtype instead.\n",
      "  pd.Int64Index,\n"
     ]
    }
   ],
   "source": [
    "urbBoundary.to_file(firebreakRoot + r\"\\Urban.shp\")"
   ]
  },
  {
   "cell_type": "code",
   "execution_count": 11,
   "id": "3ddb9697",
   "metadata": {},
   "outputs": [
    {
     "data": {
      "image/png": "[encoded data removed]",
      "text/plain": [
       "<Figure size 1000x1000 with 1 Axes>"
      ]
     },
     "metadata": {},
     "output_type": "display_data"
    }
   ],
   "source": [
    "# create the plot\n",
    "fig, ax = plt.subplots(figsize = (10,10))\n",
    "\n",
    "dissolveUrb.reset_index().plot(column='BREAK_NAME', ax=ax)\n",
    "\n",
    "ax.set_axis_off()\n",
    "plt.axis('equal');"
   ]
  },
  {
   "cell_type": "code",
   "execution_count": 13,
   "id": "198d6cb3",
   "metadata": {},
   "outputs": [],
   "source": [
    "firebreakRoot = r'D:\\Projects\\Github\\SAGIS-Users\\anderso\\FirebreakEnhancement\\data\\Internal' \n",
    "firebreakPath = r'{0}\\{1}'.format(firebreakRoot,'CO_Agriculture.shp')\n",
    "\n",
    "fbState = gpd.read_file(firebreakPath)"
   ]
  },
  {
   "cell_type": "code",
   "execution_count": 14,
   "id": "338bb801",
   "metadata": {},
   "outputs": [
    {
     "data": {
      "text/html": [
       "<div>\n",
       "<style scoped>\n",
       "    .dataframe tbody tr th:only-of-type {\n",
       "        vertical-align: middle;\n",
       "    }\n",
       "\n",
       "    .dataframe tbody tr th {\n",
       "        vertical-align: top;\n",
       "    }\n",
       "\n",
       "    .dataframe thead th {\n",
       "        text-align: right;\n",
       "    }\n",
       "</style>\n",
       "<table border=\"1\" class=\"dataframe\">\n",
       "  <thead>\n",
       "    <tr style=\"text-align: right;\">\n",
       "      <th></th>\n",
       "      <th>BREAK_NAME</th>\n",
       "      <th>geometry</th>\n",
       "    </tr>\n",
       "  </thead>\n",
       "  <tbody>\n",
       "    <tr>\n",
       "      <th>0</th>\n",
       "      <td>Agriculture</td>\n",
       "      <td>POLYGON ((-107.61169 39.61359, -107.61634 39.6...</td>\n",
       "    </tr>\n",
       "    <tr>\n",
       "      <th>1</th>\n",
       "      <td>Agriculture</td>\n",
       "      <td>POLYGON ((-102.53447 40.68138, -102.53912 40.6...</td>\n",
       "    </tr>\n",
       "    <tr>\n",
       "      <th>2</th>\n",
       "      <td>Agriculture</td>\n",
       "      <td>POLYGON ((-103.16330 40.78166, -103.16795 40.7...</td>\n",
       "    </tr>\n",
       "    <tr>\n",
       "      <th>3</th>\n",
       "      <td>Agriculture</td>\n",
       "      <td>POLYGON ((-107.53716 40.65541, -107.54182 40.6...</td>\n",
       "    </tr>\n",
       "    <tr>\n",
       "      <th>4</th>\n",
       "      <td>Agriculture</td>\n",
       "      <td>POLYGON ((-103.66636 39.77819, -103.67102 39.7...</td>\n",
       "    </tr>\n",
       "  </tbody>\n",
       "</table>\n",
       "</div>"
      ],
      "text/plain": [
       "    BREAK_NAME                                           geometry\n",
       "0  Agriculture  POLYGON ((-107.61169 39.61359, -107.61634 39.6...\n",
       "1  Agriculture  POLYGON ((-102.53447 40.68138, -102.53912 40.6...\n",
       "2  Agriculture  POLYGON ((-103.16330 40.78166, -103.16795 40.7...\n",
       "3  Agriculture  POLYGON ((-107.53716 40.65541, -107.54182 40.6...\n",
       "4  Agriculture  POLYGON ((-103.66636 39.77819, -103.67102 39.7..."
      ]
     },
     "execution_count": 14,
     "metadata": {},
     "output_type": "execute_result"
    }
   ],
   "source": [
    "fbState.head()"
   ]
  },
  {
   "cell_type": "code",
   "execution_count": 15,
   "id": "3cd704bd",
   "metadata": {},
   "outputs": [],
   "source": [
    "# find the bounds of your geodataframe\n",
    "x_min, y_min, x_max, y_max = fbState.total_bounds"
   ]
  },
  {
   "cell_type": "code",
   "execution_count": 16,
   "id": "76069eb3",
   "metadata": {},
   "outputs": [],
   "source": [
    "# set sample size\n",
    "n = 70\n",
    "# generate random data within the bounds\n",
    "x = np.random.uniform(x_min, x_max, n)\n",
    "y = np.random.uniform(y_min, y_max, n)"
   ]
  },
  {
   "cell_type": "code",
   "execution_count": 17,
   "id": "620b0049",
   "metadata": {},
   "outputs": [
    {
     "name": "stderr",
     "output_type": "stream",
     "text": [
      "C:\\Users\\andolson\\anaconda3\\envs\\mlai\\lib\\site-packages\\geopandas\\array.py:275: ShapelyDeprecationWarning: The array interface is deprecated and will no longer work in Shapely 2.0. Convert the '.coords' to a numpy array instead.\n",
      "  return GeometryArray(vectorized.points_from_xy(x, y, z), crs=crs)\n"
     ]
    },
    {
     "ename": "KeyboardInterrupt",
     "evalue": "",
     "output_type": "error",
     "traceback": [
      "\u001b[1;31m---------------------------------------------------------------------------\u001b[0m",
      "\u001b[1;31mKeyboardInterrupt\u001b[0m                         Traceback (most recent call last)",
      "Cell \u001b[1;32mIn[17], line 4\u001b[0m\n\u001b[0;32m      2\u001b[0m gdf_points \u001b[38;5;241m=\u001b[39m gpd\u001b[38;5;241m.\u001b[39mGeoSeries(gpd\u001b[38;5;241m.\u001b[39mpoints_from_xy(x, y))\n\u001b[0;32m      3\u001b[0m \u001b[38;5;66;03m# only keep those points within polygons\u001b[39;00m\n\u001b[1;32m----> 4\u001b[0m gdf_points \u001b[38;5;241m=\u001b[39m gdf_points[\u001b[43mgdf_points\u001b[49m\u001b[38;5;241;43m.\u001b[39;49m\u001b[43mwithin\u001b[49m\u001b[43m(\u001b[49m\u001b[43mfbState\u001b[49m\u001b[38;5;241;43m.\u001b[39;49m\u001b[43munary_union\u001b[49m\u001b[43m)\u001b[49m]\n",
      "File \u001b[1;32m~\\anaconda3\\envs\\mlai\\lib\\site-packages\\geopandas\\base.py:1752\u001b[0m, in \u001b[0;36mGeoPandasBase.within\u001b[1;34m(self, other, align)\u001b[0m\n\u001b[0;32m   1640\u001b[0m \u001b[38;5;28;01mdef\u001b[39;00m \u001b[38;5;21mwithin\u001b[39m(\u001b[38;5;28mself\u001b[39m, other, align\u001b[38;5;241m=\u001b[39m\u001b[38;5;28;01mTrue\u001b[39;00m):\n\u001b[0;32m   1641\u001b[0m     \u001b[38;5;124;03m\"\"\"Returns a ``Series`` of ``dtype('bool')`` with value ``True`` for\u001b[39;00m\n\u001b[0;32m   1642\u001b[0m \u001b[38;5;124;03m    each aligned geometry that is within `other`.\u001b[39;00m\n\u001b[0;32m   1643\u001b[0m \n\u001b[1;32m   (...)\u001b[0m\n\u001b[0;32m   1750\u001b[0m \u001b[38;5;124;03m    GeoSeries.contains\u001b[39;00m\n\u001b[0;32m   1751\u001b[0m \u001b[38;5;124;03m    \"\"\"\u001b[39;00m\n\u001b[1;32m-> 1752\u001b[0m     \u001b[38;5;28;01mreturn\u001b[39;00m \u001b[43m_binary_op\u001b[49m\u001b[43m(\u001b[49m\u001b[38;5;124;43m\"\u001b[39;49m\u001b[38;5;124;43mwithin\u001b[39;49m\u001b[38;5;124;43m\"\u001b[39;49m\u001b[43m,\u001b[49m\u001b[43m \u001b[49m\u001b[38;5;28;43mself\u001b[39;49m\u001b[43m,\u001b[49m\u001b[43m \u001b[49m\u001b[43mother\u001b[49m\u001b[43m,\u001b[49m\u001b[43m \u001b[49m\u001b[43malign\u001b[49m\u001b[43m)\u001b[49m\n",
      "File \u001b[1;32m~\\anaconda3\\envs\\mlai\\lib\\site-packages\\geopandas\\base.py:60\u001b[0m, in \u001b[0;36m_binary_op\u001b[1;34m(op, this, other, align, *args, **kwargs)\u001b[0m\n\u001b[0;32m     57\u001b[0m \u001b[38;5;28;01mdef\u001b[39;00m \u001b[38;5;21m_binary_op\u001b[39m(op, this, other, align, \u001b[38;5;241m*\u001b[39margs, \u001b[38;5;241m*\u001b[39m\u001b[38;5;241m*\u001b[39mkwargs):\n\u001b[0;32m     58\u001b[0m     \u001b[38;5;66;03m# type: (str, GeoSeries, GeoSeries, args/kwargs) -> Series[bool/float]\u001b[39;00m\n\u001b[0;32m     59\u001b[0m     \u001b[38;5;124;03m\"\"\"Binary operation on GeoSeries objects that returns a Series\"\"\"\u001b[39;00m\n\u001b[1;32m---> 60\u001b[0m     data, index \u001b[38;5;241m=\u001b[39m _delegate_binary_method(op, this, other, align, \u001b[38;5;241m*\u001b[39margs, \u001b[38;5;241m*\u001b[39m\u001b[38;5;241m*\u001b[39mkwargs)\n\u001b[0;32m     61\u001b[0m     \u001b[38;5;28;01mreturn\u001b[39;00m Series(data, index\u001b[38;5;241m=\u001b[39mindex)\n",
      "File \u001b[1;32m~\\anaconda3\\envs\\mlai\\lib\\site-packages\\geopandas\\base.py:44\u001b[0m, in \u001b[0;36m_delegate_binary_method\u001b[1;34m(op, this, other, align, *args, **kwargs)\u001b[0m\n\u001b[0;32m     41\u001b[0m \u001b[38;5;28;01melse\u001b[39;00m:\n\u001b[0;32m     42\u001b[0m     \u001b[38;5;28;01mraise\u001b[39;00m \u001b[38;5;167;01mTypeError\u001b[39;00m(\u001b[38;5;28mtype\u001b[39m(this), \u001b[38;5;28mtype\u001b[39m(other))\n\u001b[1;32m---> 44\u001b[0m data \u001b[38;5;241m=\u001b[39m \u001b[38;5;28mgetattr\u001b[39m(a_this, op)(other, \u001b[38;5;241m*\u001b[39margs, \u001b[38;5;241m*\u001b[39m\u001b[38;5;241m*\u001b[39mkwargs)\n\u001b[0;32m     45\u001b[0m \u001b[38;5;28;01mreturn\u001b[39;00m data, this\u001b[38;5;241m.\u001b[39mindex\n",
      "File \u001b[1;32m~\\anaconda3\\envs\\mlai\\lib\\site-packages\\geopandas\\array.py:572\u001b[0m, in \u001b[0;36mGeometryArray.within\u001b[1;34m(self, other)\u001b[0m\n\u001b[0;32m    571\u001b[0m \u001b[38;5;28;01mdef\u001b[39;00m \u001b[38;5;21mwithin\u001b[39m(\u001b[38;5;28mself\u001b[39m, other):\n\u001b[1;32m--> 572\u001b[0m     \u001b[38;5;28;01mreturn\u001b[39;00m \u001b[38;5;28;43mself\u001b[39;49m\u001b[38;5;241;43m.\u001b[39;49m\u001b[43m_binary_method\u001b[49m\u001b[43m(\u001b[49m\u001b[38;5;124;43m\"\u001b[39;49m\u001b[38;5;124;43mwithin\u001b[39;49m\u001b[38;5;124;43m\"\u001b[39;49m\u001b[43m,\u001b[49m\u001b[43m \u001b[49m\u001b[38;5;28;43mself\u001b[39;49m\u001b[43m,\u001b[49m\u001b[43m \u001b[49m\u001b[43mother\u001b[49m\u001b[43m)\u001b[49m\n",
      "File \u001b[1;32m~\\anaconda3\\envs\\mlai\\lib\\site-packages\\geopandas\\array.py:542\u001b[0m, in \u001b[0;36mGeometryArray._binary_method\u001b[1;34m(op, left, right, **kwargs)\u001b[0m\n\u001b[0;32m    539\u001b[0m         _crs_mismatch_warn(left, right, stacklevel\u001b[38;5;241m=\u001b[39m\u001b[38;5;241m7\u001b[39m)\n\u001b[0;32m    540\u001b[0m     right \u001b[38;5;241m=\u001b[39m right\u001b[38;5;241m.\u001b[39mdata\n\u001b[1;32m--> 542\u001b[0m \u001b[38;5;28;01mreturn\u001b[39;00m \u001b[38;5;28mgetattr\u001b[39m(vectorized, op)(left\u001b[38;5;241m.\u001b[39mdata, right, \u001b[38;5;241m*\u001b[39m\u001b[38;5;241m*\u001b[39mkwargs)\n",
      "File \u001b[1;32m~\\anaconda3\\envs\\mlai\\lib\\site-packages\\geopandas\\_vectorized.py:702\u001b[0m, in \u001b[0;36mwithin\u001b[1;34m(data, other)\u001b[0m\n\u001b[0;32m    700\u001b[0m     \u001b[38;5;28;01mreturn\u001b[39;00m _binary_method(\u001b[38;5;124m\"\u001b[39m\u001b[38;5;124mwithin\u001b[39m\u001b[38;5;124m\"\u001b[39m, data, other)\n\u001b[0;32m    701\u001b[0m \u001b[38;5;28;01melse\u001b[39;00m:\n\u001b[1;32m--> 702\u001b[0m     \u001b[38;5;28;01mreturn\u001b[39;00m \u001b[43m_binary_predicate\u001b[49m\u001b[43m(\u001b[49m\u001b[38;5;124;43m\"\u001b[39;49m\u001b[38;5;124;43mwithin\u001b[39;49m\u001b[38;5;124;43m\"\u001b[39;49m\u001b[43m,\u001b[49m\u001b[43m \u001b[49m\u001b[43mdata\u001b[49m\u001b[43m,\u001b[49m\u001b[43m \u001b[49m\u001b[43mother\u001b[49m\u001b[43m)\u001b[49m\n",
      "File \u001b[1;32m~\\anaconda3\\envs\\mlai\\lib\\site-packages\\geopandas\\_vectorized.py:336\u001b[0m, in \u001b[0;36m_binary_predicate\u001b[1;34m(op, left, right, *args, **kwargs)\u001b[0m\n\u001b[0;32m    334\u001b[0m \u001b[38;5;66;03m# empty geometries are handled by shapely (all give False except disjoint)\u001b[39;00m\n\u001b[0;32m    335\u001b[0m \u001b[38;5;28;01mif\u001b[39;00m \u001b[38;5;28misinstance\u001b[39m(right, BaseGeometry):\n\u001b[1;32m--> 336\u001b[0m     data \u001b[38;5;241m=\u001b[39m [\n\u001b[0;32m    337\u001b[0m         \u001b[38;5;28mgetattr\u001b[39m(s, op)(right, \u001b[38;5;241m*\u001b[39margs, \u001b[38;5;241m*\u001b[39m\u001b[38;5;241m*\u001b[39mkwargs) \u001b[38;5;28;01mif\u001b[39;00m s \u001b[38;5;129;01mis\u001b[39;00m \u001b[38;5;129;01mnot\u001b[39;00m \u001b[38;5;28;01mNone\u001b[39;00m \u001b[38;5;28;01melse\u001b[39;00m \u001b[38;5;28;01mFalse\u001b[39;00m\n\u001b[0;32m    338\u001b[0m         \u001b[38;5;28;01mfor\u001b[39;00m s \u001b[38;5;129;01min\u001b[39;00m left\n\u001b[0;32m    339\u001b[0m     ]\n\u001b[0;32m    340\u001b[0m     \u001b[38;5;28;01mreturn\u001b[39;00m np\u001b[38;5;241m.\u001b[39marray(data, dtype\u001b[38;5;241m=\u001b[39m\u001b[38;5;28mbool\u001b[39m)\n\u001b[0;32m    341\u001b[0m \u001b[38;5;28;01melif\u001b[39;00m \u001b[38;5;28misinstance\u001b[39m(right, np\u001b[38;5;241m.\u001b[39mndarray):\n",
      "File \u001b[1;32m~\\anaconda3\\envs\\mlai\\lib\\site-packages\\geopandas\\_vectorized.py:337\u001b[0m, in \u001b[0;36m<listcomp>\u001b[1;34m(.0)\u001b[0m\n\u001b[0;32m    334\u001b[0m \u001b[38;5;66;03m# empty geometries are handled by shapely (all give False except disjoint)\u001b[39;00m\n\u001b[0;32m    335\u001b[0m \u001b[38;5;28;01mif\u001b[39;00m \u001b[38;5;28misinstance\u001b[39m(right, BaseGeometry):\n\u001b[0;32m    336\u001b[0m     data \u001b[38;5;241m=\u001b[39m [\n\u001b[1;32m--> 337\u001b[0m         \u001b[38;5;28mgetattr\u001b[39m(s, op)(right, \u001b[38;5;241m*\u001b[39margs, \u001b[38;5;241m*\u001b[39m\u001b[38;5;241m*\u001b[39mkwargs) \u001b[38;5;28;01mif\u001b[39;00m s \u001b[38;5;129;01mis\u001b[39;00m \u001b[38;5;129;01mnot\u001b[39;00m \u001b[38;5;28;01mNone\u001b[39;00m \u001b[38;5;28;01melse\u001b[39;00m \u001b[38;5;28;01mFalse\u001b[39;00m\n\u001b[0;32m    338\u001b[0m         \u001b[38;5;28;01mfor\u001b[39;00m s \u001b[38;5;129;01min\u001b[39;00m left\n\u001b[0;32m    339\u001b[0m     ]\n\u001b[0;32m    340\u001b[0m     \u001b[38;5;28;01mreturn\u001b[39;00m np\u001b[38;5;241m.\u001b[39marray(data, dtype\u001b[38;5;241m=\u001b[39m\u001b[38;5;28mbool\u001b[39m)\n\u001b[0;32m    341\u001b[0m \u001b[38;5;28;01melif\u001b[39;00m \u001b[38;5;28misinstance\u001b[39m(right, np\u001b[38;5;241m.\u001b[39mndarray):\n",
      "File \u001b[1;32m~\\anaconda3\\envs\\mlai\\lib\\site-packages\\shapely\\geometry\\base.py:815\u001b[0m, in \u001b[0;36mBaseGeometry.within\u001b[1;34m(self, other)\u001b[0m\n\u001b[0;32m    813\u001b[0m \u001b[38;5;28;01mdef\u001b[39;00m \u001b[38;5;21mwithin\u001b[39m(\u001b[38;5;28mself\u001b[39m, other):\n\u001b[0;32m    814\u001b[0m     \u001b[38;5;124;03m\"\"\"Returns True if geometry is within the other, else False\"\"\"\u001b[39;00m\n\u001b[1;32m--> 815\u001b[0m     \u001b[38;5;28;01mreturn\u001b[39;00m \u001b[38;5;28mbool\u001b[39m(\u001b[38;5;28;43mself\u001b[39;49m\u001b[38;5;241;43m.\u001b[39;49m\u001b[43mimpl\u001b[49m\u001b[43m[\u001b[49m\u001b[38;5;124;43m'\u001b[39;49m\u001b[38;5;124;43mwithin\u001b[39;49m\u001b[38;5;124;43m'\u001b[39;49m\u001b[43m]\u001b[49m\u001b[43m(\u001b[49m\u001b[38;5;28;43mself\u001b[39;49m\u001b[43m,\u001b[49m\u001b[43m \u001b[49m\u001b[43mother\u001b[49m\u001b[43m)\u001b[49m)\n",
      "File \u001b[1;32m~\\anaconda3\\envs\\mlai\\lib\\site-packages\\shapely\\predicates.py:15\u001b[0m, in \u001b[0;36mBinaryPredicate.__call__\u001b[1;34m(self, this, other, *args)\u001b[0m\n\u001b[0;32m     13\u001b[0m \u001b[38;5;28mself\u001b[39m\u001b[38;5;241m.\u001b[39m_validate(other, stop_prepared\u001b[38;5;241m=\u001b[39m\u001b[38;5;28;01mTrue\u001b[39;00m)\n\u001b[0;32m     14\u001b[0m \u001b[38;5;28;01mtry\u001b[39;00m:\n\u001b[1;32m---> 15\u001b[0m     \u001b[38;5;28;01mreturn\u001b[39;00m \u001b[38;5;28;43mself\u001b[39;49m\u001b[38;5;241;43m.\u001b[39;49m\u001b[43mfn\u001b[49m\u001b[43m(\u001b[49m\u001b[43mthis\u001b[49m\u001b[38;5;241;43m.\u001b[39;49m\u001b[43m_geom\u001b[49m\u001b[43m,\u001b[49m\u001b[43m \u001b[49m\u001b[43mother\u001b[49m\u001b[38;5;241;43m.\u001b[39;49m\u001b[43m_geom\u001b[49m\u001b[43m,\u001b[49m\u001b[43m \u001b[49m\u001b[38;5;241;43m*\u001b[39;49m\u001b[43margs\u001b[49m\u001b[43m)\u001b[49m\n\u001b[0;32m     16\u001b[0m \u001b[38;5;28;01mexcept\u001b[39;00m PredicateError \u001b[38;5;28;01mas\u001b[39;00m err:\n\u001b[0;32m     17\u001b[0m     \u001b[38;5;66;03m# Dig deeper into causes of errors.\u001b[39;00m\n\u001b[0;32m     18\u001b[0m     \u001b[38;5;28mself\u001b[39m\u001b[38;5;241m.\u001b[39m_check_topology(err, this, other)\n",
      "File \u001b[1;32m~\\anaconda3\\envs\\mlai\\lib\\site-packages\\shapely\\geos.py:606\u001b[0m, in \u001b[0;36merrcheck_predicate\u001b[1;34m(result, func, argtuple)\u001b[0m\n\u001b[0;32m    599\u001b[0m         \u001b[38;5;28;01mraise\u001b[39;00m TopologicalError(\n\u001b[0;32m    600\u001b[0m             \u001b[38;5;124m\"\u001b[39m\u001b[38;5;124mThe operation \u001b[39m\u001b[38;5;124m'\u001b[39m\u001b[38;5;132;01m{}\u001b[39;00m\u001b[38;5;124m'\u001b[39m\u001b[38;5;124m could not be performed.\u001b[39m\u001b[38;5;124m\"\u001b[39m\n\u001b[0;32m    601\u001b[0m             \u001b[38;5;124m\"\u001b[39m\u001b[38;5;124mLikely cause is invalidity of the geometry.\u001b[39m\u001b[38;5;124m\"\u001b[39m\u001b[38;5;241m.\u001b[39mformat(\n\u001b[0;32m    602\u001b[0m                 func\u001b[38;5;241m.\u001b[39m\u001b[38;5;18m__name__\u001b[39m))\n\u001b[0;32m    603\u001b[0m     \u001b[38;5;28;01mreturn\u001b[39;00m errcheck_just_free(result, func, argtuple)\n\u001b[1;32m--> 606\u001b[0m \u001b[38;5;28;01mdef\u001b[39;00m \u001b[38;5;21merrcheck_predicate\u001b[39m(result, func, argtuple):\n\u001b[0;32m    607\u001b[0m     \u001b[38;5;124;03m\"\"\"Result is 2 on exception, 1 on True, 0 on False\"\"\"\u001b[39;00m\n\u001b[0;32m    608\u001b[0m     \u001b[38;5;28;01mif\u001b[39;00m result \u001b[38;5;241m==\u001b[39m \u001b[38;5;241m2\u001b[39m:\n",
      "\u001b[1;31mKeyboardInterrupt\u001b[0m: "
     ]
    }
   ],
   "source": [
    "# convert them to a points GeoSeries\n",
    "gdf_points = gpd.GeoSeries(gpd.points_from_xy(x, y))\n",
    "# only keep those points within polygons\n",
    "gdf_points = gdf_points[gdf_points.within(fbState.unary_union)]"
   ]
  },
  {
   "cell_type": "code",
   "execution_count": null,
   "id": "637150f2",
   "metadata": {},
   "outputs": [],
   "source": [
    "gdf_points.plot()"
   ]
  },
  {
   "cell_type": "code",
   "execution_count": 12,
   "id": "19983b0b",
   "metadata": {},
   "outputs": [
    {
     "data": {
      "text/plain": [
       "27"
      ]
     },
     "execution_count": 12,
     "metadata": {},
     "output_type": "execute_result"
    }
   ],
   "source": [
    "gdf_points.count()"
   ]
  },
  {
   "cell_type": "code",
   "execution_count": 13,
   "id": "0660d4a5",
   "metadata": {},
   "outputs": [
    {
     "name": "stderr",
     "output_type": "stream",
     "text": [
      "C:\\Users\\andolson\\anaconda3\\envs\\mlai\\lib\\site-packages\\geopandas\\io\\file.py:299: FutureWarning: pandas.Int64Index is deprecated and will be removed from pandas in a future version. Use pandas.Index with the appropriate dtype instead.\n",
      "  pd.Int64Index,\n"
     ]
    }
   ],
   "source": [
    "gdf_points.to_file(firebreakRoot + \"\\AG_pnts.shp\")"
   ]
  }
 ],
 "metadata": {
  "kernelspec": {
   "display_name": "Python 3 (ipykernel)",
   "language": "python",
   "name": "python3"
  },
  "language_info": {
   "codemirror_mode": {
    "name": "ipython",
    "version": 3
   },
   "file_extension": ".py",
   "mimetype": "text/x-python",
   "name": "python",
   "nbconvert_exporter": "python",
   "pygments_lexer": "ipython3",
   "version": "3.9.15"
  }
 },
 "nbformat": 4,
 "nbformat_minor": 5
}
